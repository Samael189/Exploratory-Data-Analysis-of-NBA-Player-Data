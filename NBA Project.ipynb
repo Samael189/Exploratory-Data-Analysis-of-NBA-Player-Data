{
 "cells": [
  {
   "cell_type": "markdown",
   "metadata": {},
   "source": [
    "# Warren Wilson\n",
    "### Investigating The Relationship Between a Player's Height and Weight and Their Position"
   ]
  },
  {
   "cell_type": "markdown",
   "metadata": {},
   "source": [
    "<img src = \"https://ca.nba.com/assets/img/social_share_default.png\" width=600 align=\"center\"/>"
   ]
  },
  {
   "cell_type": "markdown",
   "metadata": {},
   "source": [
    "## To start, the first thing to do is to import all of the necessary libraries"
   ]
  },
  {
   "cell_type": "code",
   "execution_count": 2,
   "metadata": {},
   "outputs": [],
   "source": [
    "import pandas as pd\n",
    "import numpy as np\n",
    "import scipy\n",
    "import matplotlib.pyplot as plt\n",
    "from pylab import rcParams\n",
    "import urllib\n",
    "import sklearn \n",
    "from sklearn.neighbors import KNeighborsClassifier\n",
    "from sklearn import neighbors\n",
    "from sklearn import preprocessing\n",
    "from sklearn.model_selection import train_test_split\n",
    "from sklearn import metrics\n",
    "from sklearn.metrics import f1_score\n",
    "from sklearn.metrics import accuracy_score\n",
    "\n",
    "import sympy as sy\n",
    "from sklearn import datasets as dt\n",
    "from collections import Counter\n",
    "import requests as re\n",
    "\n",
    "import seaborn as sb\n",
    "sb.set_style(\"whitegrid\")\n",
    "sb.set_context(\"notebook\", font_scale=1, rc={\"lines.linewidth\": 2,'font.family': [u'times']})\n",
    "\n",
    "from scipy.stats import spearmanr\n",
    "\n",
    "from sklearn.linear_model import LinearRegression\n",
    "from sklearn.linear_model import LogisticRegression\n",
    "\n",
    "from sklearn.preprocessing import scale\n",
    "%matplotlib inline \n",
    "nba = pd.read_csv('C:/Users/Sammael89/Desktop/Data_Science/Personal_Projects/NBA/player_data.csv')\n",
    "pd.options.display.max_columns = None\n"
   ]
  },
  {
   "cell_type": "markdown",
   "metadata": {},
   "source": [
    "#### We will only be viewing the first 11 entries (to save space)"
   ]
  },
  {
   "cell_type": "code",
   "execution_count": 3,
   "metadata": {
    "scrolled": true
   },
   "outputs": [
    {
     "data": {
      "text/html": [
       "<div>\n",
       "<style scoped>\n",
       "    .dataframe tbody tr th:only-of-type {\n",
       "        vertical-align: middle;\n",
       "    }\n",
       "\n",
       "    .dataframe tbody tr th {\n",
       "        vertical-align: top;\n",
       "    }\n",
       "\n",
       "    .dataframe thead th {\n",
       "        text-align: right;\n",
       "    }\n",
       "</style>\n",
       "<table border=\"1\" class=\"dataframe\">\n",
       "  <thead>\n",
       "    <tr style=\"text-align: right;\">\n",
       "      <th></th>\n",
       "      <th>name</th>\n",
       "      <th>year_start</th>\n",
       "      <th>year_end</th>\n",
       "      <th>position</th>\n",
       "      <th>height</th>\n",
       "      <th>weight</th>\n",
       "      <th>birth_date</th>\n",
       "      <th>college</th>\n",
       "    </tr>\n",
       "  </thead>\n",
       "  <tbody>\n",
       "    <tr>\n",
       "      <th>0</th>\n",
       "      <td>Alaa Abdelnaby</td>\n",
       "      <td>1991</td>\n",
       "      <td>1995</td>\n",
       "      <td>F-C</td>\n",
       "      <td>6-10</td>\n",
       "      <td>240.0</td>\n",
       "      <td>June 24, 1968</td>\n",
       "      <td>Duke University</td>\n",
       "    </tr>\n",
       "    <tr>\n",
       "      <th>1</th>\n",
       "      <td>Zaid Abdul-Aziz</td>\n",
       "      <td>1969</td>\n",
       "      <td>1978</td>\n",
       "      <td>C-F</td>\n",
       "      <td>6-9</td>\n",
       "      <td>235.0</td>\n",
       "      <td>April 7, 1946</td>\n",
       "      <td>Iowa State University</td>\n",
       "    </tr>\n",
       "    <tr>\n",
       "      <th>2</th>\n",
       "      <td>Kareem Abdul-Jabbar</td>\n",
       "      <td>1970</td>\n",
       "      <td>1989</td>\n",
       "      <td>C</td>\n",
       "      <td>7-2</td>\n",
       "      <td>225.0</td>\n",
       "      <td>April 16, 1947</td>\n",
       "      <td>University of California, Los Angeles</td>\n",
       "    </tr>\n",
       "    <tr>\n",
       "      <th>3</th>\n",
       "      <td>Mahmoud Abdul-Rauf</td>\n",
       "      <td>1991</td>\n",
       "      <td>2001</td>\n",
       "      <td>G</td>\n",
       "      <td>6-1</td>\n",
       "      <td>162.0</td>\n",
       "      <td>March 9, 1969</td>\n",
       "      <td>Louisiana State University</td>\n",
       "    </tr>\n",
       "    <tr>\n",
       "      <th>4</th>\n",
       "      <td>Tariq Abdul-Wahad</td>\n",
       "      <td>1998</td>\n",
       "      <td>2003</td>\n",
       "      <td>F</td>\n",
       "      <td>6-6</td>\n",
       "      <td>223.0</td>\n",
       "      <td>November 3, 1974</td>\n",
       "      <td>San Jose State University</td>\n",
       "    </tr>\n",
       "    <tr>\n",
       "      <th>5</th>\n",
       "      <td>Shareef Abdur-Rahim</td>\n",
       "      <td>1997</td>\n",
       "      <td>2008</td>\n",
       "      <td>F</td>\n",
       "      <td>6-9</td>\n",
       "      <td>225.0</td>\n",
       "      <td>December 11, 1976</td>\n",
       "      <td>University of California</td>\n",
       "    </tr>\n",
       "    <tr>\n",
       "      <th>6</th>\n",
       "      <td>Tom Abernethy</td>\n",
       "      <td>1977</td>\n",
       "      <td>1981</td>\n",
       "      <td>F</td>\n",
       "      <td>6-7</td>\n",
       "      <td>220.0</td>\n",
       "      <td>May 6, 1954</td>\n",
       "      <td>Indiana University</td>\n",
       "    </tr>\n",
       "    <tr>\n",
       "      <th>7</th>\n",
       "      <td>Forest Able</td>\n",
       "      <td>1957</td>\n",
       "      <td>1957</td>\n",
       "      <td>G</td>\n",
       "      <td>6-3</td>\n",
       "      <td>180.0</td>\n",
       "      <td>July 27, 1932</td>\n",
       "      <td>Western Kentucky University</td>\n",
       "    </tr>\n",
       "    <tr>\n",
       "      <th>8</th>\n",
       "      <td>John Abramovic</td>\n",
       "      <td>1947</td>\n",
       "      <td>1948</td>\n",
       "      <td>F</td>\n",
       "      <td>6-3</td>\n",
       "      <td>195.0</td>\n",
       "      <td>February 9, 1919</td>\n",
       "      <td>Salem International University</td>\n",
       "    </tr>\n",
       "    <tr>\n",
       "      <th>9</th>\n",
       "      <td>Alex Abrines</td>\n",
       "      <td>2017</td>\n",
       "      <td>2018</td>\n",
       "      <td>G-F</td>\n",
       "      <td>6-6</td>\n",
       "      <td>190.0</td>\n",
       "      <td>August 1, 1993</td>\n",
       "      <td>NaN</td>\n",
       "    </tr>\n",
       "    <tr>\n",
       "      <th>10</th>\n",
       "      <td>Alex Acker</td>\n",
       "      <td>2006</td>\n",
       "      <td>2009</td>\n",
       "      <td>G</td>\n",
       "      <td>6-5</td>\n",
       "      <td>185.0</td>\n",
       "      <td>January 21, 1983</td>\n",
       "      <td>Pepperdine University</td>\n",
       "    </tr>\n",
       "  </tbody>\n",
       "</table>\n",
       "</div>"
      ],
      "text/plain": [
       "                   name  year_start  year_end position height  weight  \\\n",
       "0        Alaa Abdelnaby        1991      1995      F-C   6-10   240.0   \n",
       "1       Zaid Abdul-Aziz        1969      1978      C-F    6-9   235.0   \n",
       "2   Kareem Abdul-Jabbar        1970      1989        C    7-2   225.0   \n",
       "3    Mahmoud Abdul-Rauf        1991      2001        G    6-1   162.0   \n",
       "4     Tariq Abdul-Wahad        1998      2003        F    6-6   223.0   \n",
       "5   Shareef Abdur-Rahim        1997      2008        F    6-9   225.0   \n",
       "6         Tom Abernethy        1977      1981        F    6-7   220.0   \n",
       "7           Forest Able        1957      1957        G    6-3   180.0   \n",
       "8        John Abramovic        1947      1948        F    6-3   195.0   \n",
       "9          Alex Abrines        2017      2018      G-F    6-6   190.0   \n",
       "10           Alex Acker        2006      2009        G    6-5   185.0   \n",
       "\n",
       "           birth_date                                college  \n",
       "0       June 24, 1968                        Duke University  \n",
       "1       April 7, 1946                  Iowa State University  \n",
       "2      April 16, 1947  University of California, Los Angeles  \n",
       "3       March 9, 1969             Louisiana State University  \n",
       "4    November 3, 1974              San Jose State University  \n",
       "5   December 11, 1976               University of California  \n",
       "6         May 6, 1954                     Indiana University  \n",
       "7       July 27, 1932            Western Kentucky University  \n",
       "8    February 9, 1919         Salem International University  \n",
       "9      August 1, 1993                                    NaN  \n",
       "10   January 21, 1983                  Pepperdine University  "
      ]
     },
     "execution_count": 3,
     "metadata": {},
     "output_type": "execute_result"
    }
   ],
   "source": [
    "nba.head(11)"
   ]
  },
  {
   "cell_type": "markdown",
   "metadata": {},
   "source": [
    "#### It might be useful to have a column that shows the total number of years played. We do this by taking the difference between **'year_end'** and **'year_start'**. To ensure that we do not have any zero entries we add 1  to account for all of the players who only for one year."
   ]
  },
  {
   "cell_type": "code",
   "execution_count": 4,
   "metadata": {
    "scrolled": true
   },
   "outputs": [
    {
     "data": {
      "text/html": [
       "<div>\n",
       "<style scoped>\n",
       "    .dataframe tbody tr th:only-of-type {\n",
       "        vertical-align: middle;\n",
       "    }\n",
       "\n",
       "    .dataframe tbody tr th {\n",
       "        vertical-align: top;\n",
       "    }\n",
       "\n",
       "    .dataframe thead th {\n",
       "        text-align: right;\n",
       "    }\n",
       "</style>\n",
       "<table border=\"1\" class=\"dataframe\">\n",
       "  <thead>\n",
       "    <tr style=\"text-align: right;\">\n",
       "      <th></th>\n",
       "      <th>name</th>\n",
       "      <th>year_start</th>\n",
       "      <th>year_end</th>\n",
       "      <th>position</th>\n",
       "      <th>height</th>\n",
       "      <th>weight</th>\n",
       "      <th>birth_date</th>\n",
       "      <th>college</th>\n",
       "      <th>Years_Played</th>\n",
       "    </tr>\n",
       "  </thead>\n",
       "  <tbody>\n",
       "    <tr>\n",
       "      <th>0</th>\n",
       "      <td>Alaa Abdelnaby</td>\n",
       "      <td>1991</td>\n",
       "      <td>1995</td>\n",
       "      <td>F-C</td>\n",
       "      <td>6-10</td>\n",
       "      <td>240.0</td>\n",
       "      <td>June 24, 1968</td>\n",
       "      <td>Duke University</td>\n",
       "      <td>5</td>\n",
       "    </tr>\n",
       "    <tr>\n",
       "      <th>1</th>\n",
       "      <td>Zaid Abdul-Aziz</td>\n",
       "      <td>1969</td>\n",
       "      <td>1978</td>\n",
       "      <td>C-F</td>\n",
       "      <td>6-9</td>\n",
       "      <td>235.0</td>\n",
       "      <td>April 7, 1946</td>\n",
       "      <td>Iowa State University</td>\n",
       "      <td>10</td>\n",
       "    </tr>\n",
       "    <tr>\n",
       "      <th>2</th>\n",
       "      <td>Kareem Abdul-Jabbar</td>\n",
       "      <td>1970</td>\n",
       "      <td>1989</td>\n",
       "      <td>C</td>\n",
       "      <td>7-2</td>\n",
       "      <td>225.0</td>\n",
       "      <td>April 16, 1947</td>\n",
       "      <td>University of California, Los Angeles</td>\n",
       "      <td>20</td>\n",
       "    </tr>\n",
       "    <tr>\n",
       "      <th>3</th>\n",
       "      <td>Mahmoud Abdul-Rauf</td>\n",
       "      <td>1991</td>\n",
       "      <td>2001</td>\n",
       "      <td>G</td>\n",
       "      <td>6-1</td>\n",
       "      <td>162.0</td>\n",
       "      <td>March 9, 1969</td>\n",
       "      <td>Louisiana State University</td>\n",
       "      <td>11</td>\n",
       "    </tr>\n",
       "    <tr>\n",
       "      <th>4</th>\n",
       "      <td>Tariq Abdul-Wahad</td>\n",
       "      <td>1998</td>\n",
       "      <td>2003</td>\n",
       "      <td>F</td>\n",
       "      <td>6-6</td>\n",
       "      <td>223.0</td>\n",
       "      <td>November 3, 1974</td>\n",
       "      <td>San Jose State University</td>\n",
       "      <td>6</td>\n",
       "    </tr>\n",
       "    <tr>\n",
       "      <th>5</th>\n",
       "      <td>Shareef Abdur-Rahim</td>\n",
       "      <td>1997</td>\n",
       "      <td>2008</td>\n",
       "      <td>F</td>\n",
       "      <td>6-9</td>\n",
       "      <td>225.0</td>\n",
       "      <td>December 11, 1976</td>\n",
       "      <td>University of California</td>\n",
       "      <td>12</td>\n",
       "    </tr>\n",
       "    <tr>\n",
       "      <th>6</th>\n",
       "      <td>Tom Abernethy</td>\n",
       "      <td>1977</td>\n",
       "      <td>1981</td>\n",
       "      <td>F</td>\n",
       "      <td>6-7</td>\n",
       "      <td>220.0</td>\n",
       "      <td>May 6, 1954</td>\n",
       "      <td>Indiana University</td>\n",
       "      <td>5</td>\n",
       "    </tr>\n",
       "    <tr>\n",
       "      <th>7</th>\n",
       "      <td>Forest Able</td>\n",
       "      <td>1957</td>\n",
       "      <td>1957</td>\n",
       "      <td>G</td>\n",
       "      <td>6-3</td>\n",
       "      <td>180.0</td>\n",
       "      <td>July 27, 1932</td>\n",
       "      <td>Western Kentucky University</td>\n",
       "      <td>1</td>\n",
       "    </tr>\n",
       "    <tr>\n",
       "      <th>8</th>\n",
       "      <td>John Abramovic</td>\n",
       "      <td>1947</td>\n",
       "      <td>1948</td>\n",
       "      <td>F</td>\n",
       "      <td>6-3</td>\n",
       "      <td>195.0</td>\n",
       "      <td>February 9, 1919</td>\n",
       "      <td>Salem International University</td>\n",
       "      <td>2</td>\n",
       "    </tr>\n",
       "    <tr>\n",
       "      <th>9</th>\n",
       "      <td>Alex Abrines</td>\n",
       "      <td>2017</td>\n",
       "      <td>2018</td>\n",
       "      <td>G-F</td>\n",
       "      <td>6-6</td>\n",
       "      <td>190.0</td>\n",
       "      <td>August 1, 1993</td>\n",
       "      <td>NaN</td>\n",
       "      <td>2</td>\n",
       "    </tr>\n",
       "    <tr>\n",
       "      <th>10</th>\n",
       "      <td>Alex Acker</td>\n",
       "      <td>2006</td>\n",
       "      <td>2009</td>\n",
       "      <td>G</td>\n",
       "      <td>6-5</td>\n",
       "      <td>185.0</td>\n",
       "      <td>January 21, 1983</td>\n",
       "      <td>Pepperdine University</td>\n",
       "      <td>4</td>\n",
       "    </tr>\n",
       "  </tbody>\n",
       "</table>\n",
       "</div>"
      ],
      "text/plain": [
       "                   name  year_start  year_end position height  weight  \\\n",
       "0        Alaa Abdelnaby        1991      1995      F-C   6-10   240.0   \n",
       "1       Zaid Abdul-Aziz        1969      1978      C-F    6-9   235.0   \n",
       "2   Kareem Abdul-Jabbar        1970      1989        C    7-2   225.0   \n",
       "3    Mahmoud Abdul-Rauf        1991      2001        G    6-1   162.0   \n",
       "4     Tariq Abdul-Wahad        1998      2003        F    6-6   223.0   \n",
       "5   Shareef Abdur-Rahim        1997      2008        F    6-9   225.0   \n",
       "6         Tom Abernethy        1977      1981        F    6-7   220.0   \n",
       "7           Forest Able        1957      1957        G    6-3   180.0   \n",
       "8        John Abramovic        1947      1948        F    6-3   195.0   \n",
       "9          Alex Abrines        2017      2018      G-F    6-6   190.0   \n",
       "10           Alex Acker        2006      2009        G    6-5   185.0   \n",
       "\n",
       "           birth_date                                college  Years_Played  \n",
       "0       June 24, 1968                        Duke University             5  \n",
       "1       April 7, 1946                  Iowa State University            10  \n",
       "2      April 16, 1947  University of California, Los Angeles            20  \n",
       "3       March 9, 1969             Louisiana State University            11  \n",
       "4    November 3, 1974              San Jose State University             6  \n",
       "5   December 11, 1976               University of California            12  \n",
       "6         May 6, 1954                     Indiana University             5  \n",
       "7       July 27, 1932            Western Kentucky University             1  \n",
       "8    February 9, 1919         Salem International University             2  \n",
       "9      August 1, 1993                                    NaN             2  \n",
       "10   January 21, 1983                  Pepperdine University             4  "
      ]
     },
     "execution_count": 4,
     "metadata": {},
     "output_type": "execute_result"
    }
   ],
   "source": [
    "Totyr = (nba['year_end'] - nba['year_start'])+1\n",
    "nba['Years_Played'] = Totyr\n",
    "nba.head(11)"
   ]
  },
  {
   "cell_type": "markdown",
   "metadata": {},
   "source": [
    "#### This lets us know how many rows and columns are in our dataframe."
   ]
  },
  {
   "cell_type": "code",
   "execution_count": 5,
   "metadata": {},
   "outputs": [
    {
     "data": {
      "text/plain": [
       "(4550, 9)"
      ]
     },
     "execution_count": 5,
     "metadata": {},
     "output_type": "execute_result"
    }
   ],
   "source": [
    "nba.shape"
   ]
  },
  {
   "cell_type": "markdown",
   "metadata": {},
   "source": [
    "#### I don't really care about the players full birth date, but what I do care about is their birth year. Knowing their birth year will be useful later on, so i'll just make a new column that shows that."
   ]
  },
  {
   "cell_type": "code",
   "execution_count": 6,
   "metadata": {},
   "outputs": [
    {
     "data": {
      "text/html": [
       "<div>\n",
       "<style scoped>\n",
       "    .dataframe tbody tr th:only-of-type {\n",
       "        vertical-align: middle;\n",
       "    }\n",
       "\n",
       "    .dataframe tbody tr th {\n",
       "        vertical-align: top;\n",
       "    }\n",
       "\n",
       "    .dataframe thead th {\n",
       "        text-align: right;\n",
       "    }\n",
       "</style>\n",
       "<table border=\"1\" class=\"dataframe\">\n",
       "  <thead>\n",
       "    <tr style=\"text-align: right;\">\n",
       "      <th></th>\n",
       "      <th>name</th>\n",
       "      <th>year_start</th>\n",
       "      <th>year_end</th>\n",
       "      <th>position</th>\n",
       "      <th>height</th>\n",
       "      <th>weight</th>\n",
       "      <th>birth_date</th>\n",
       "      <th>college</th>\n",
       "      <th>Years_Played</th>\n",
       "      <th>birth_year</th>\n",
       "    </tr>\n",
       "  </thead>\n",
       "  <tbody>\n",
       "    <tr>\n",
       "      <th>0</th>\n",
       "      <td>Alaa Abdelnaby</td>\n",
       "      <td>1991</td>\n",
       "      <td>1995</td>\n",
       "      <td>F-C</td>\n",
       "      <td>6-10</td>\n",
       "      <td>240.0</td>\n",
       "      <td>June 24, 1968</td>\n",
       "      <td>Duke University</td>\n",
       "      <td>5</td>\n",
       "      <td>1968.0</td>\n",
       "    </tr>\n",
       "    <tr>\n",
       "      <th>1</th>\n",
       "      <td>Zaid Abdul-Aziz</td>\n",
       "      <td>1969</td>\n",
       "      <td>1978</td>\n",
       "      <td>C-F</td>\n",
       "      <td>6-9</td>\n",
       "      <td>235.0</td>\n",
       "      <td>April 7, 1946</td>\n",
       "      <td>Iowa State University</td>\n",
       "      <td>10</td>\n",
       "      <td>1946.0</td>\n",
       "    </tr>\n",
       "    <tr>\n",
       "      <th>2</th>\n",
       "      <td>Kareem Abdul-Jabbar</td>\n",
       "      <td>1970</td>\n",
       "      <td>1989</td>\n",
       "      <td>C</td>\n",
       "      <td>7-2</td>\n",
       "      <td>225.0</td>\n",
       "      <td>April 16, 1947</td>\n",
       "      <td>University of California, Los Angeles</td>\n",
       "      <td>20</td>\n",
       "      <td>1947.0</td>\n",
       "    </tr>\n",
       "    <tr>\n",
       "      <th>3</th>\n",
       "      <td>Mahmoud Abdul-Rauf</td>\n",
       "      <td>1991</td>\n",
       "      <td>2001</td>\n",
       "      <td>G</td>\n",
       "      <td>6-1</td>\n",
       "      <td>162.0</td>\n",
       "      <td>March 9, 1969</td>\n",
       "      <td>Louisiana State University</td>\n",
       "      <td>11</td>\n",
       "      <td>1969.0</td>\n",
       "    </tr>\n",
       "    <tr>\n",
       "      <th>4</th>\n",
       "      <td>Tariq Abdul-Wahad</td>\n",
       "      <td>1998</td>\n",
       "      <td>2003</td>\n",
       "      <td>F</td>\n",
       "      <td>6-6</td>\n",
       "      <td>223.0</td>\n",
       "      <td>November 3, 1974</td>\n",
       "      <td>San Jose State University</td>\n",
       "      <td>6</td>\n",
       "      <td>1974.0</td>\n",
       "    </tr>\n",
       "    <tr>\n",
       "      <th>5</th>\n",
       "      <td>Shareef Abdur-Rahim</td>\n",
       "      <td>1997</td>\n",
       "      <td>2008</td>\n",
       "      <td>F</td>\n",
       "      <td>6-9</td>\n",
       "      <td>225.0</td>\n",
       "      <td>December 11, 1976</td>\n",
       "      <td>University of California</td>\n",
       "      <td>12</td>\n",
       "      <td>1976.0</td>\n",
       "    </tr>\n",
       "    <tr>\n",
       "      <th>6</th>\n",
       "      <td>Tom Abernethy</td>\n",
       "      <td>1977</td>\n",
       "      <td>1981</td>\n",
       "      <td>F</td>\n",
       "      <td>6-7</td>\n",
       "      <td>220.0</td>\n",
       "      <td>May 6, 1954</td>\n",
       "      <td>Indiana University</td>\n",
       "      <td>5</td>\n",
       "      <td>1954.0</td>\n",
       "    </tr>\n",
       "    <tr>\n",
       "      <th>7</th>\n",
       "      <td>Forest Able</td>\n",
       "      <td>1957</td>\n",
       "      <td>1957</td>\n",
       "      <td>G</td>\n",
       "      <td>6-3</td>\n",
       "      <td>180.0</td>\n",
       "      <td>July 27, 1932</td>\n",
       "      <td>Western Kentucky University</td>\n",
       "      <td>1</td>\n",
       "      <td>1932.0</td>\n",
       "    </tr>\n",
       "    <tr>\n",
       "      <th>8</th>\n",
       "      <td>John Abramovic</td>\n",
       "      <td>1947</td>\n",
       "      <td>1948</td>\n",
       "      <td>F</td>\n",
       "      <td>6-3</td>\n",
       "      <td>195.0</td>\n",
       "      <td>February 9, 1919</td>\n",
       "      <td>Salem International University</td>\n",
       "      <td>2</td>\n",
       "      <td>1919.0</td>\n",
       "    </tr>\n",
       "    <tr>\n",
       "      <th>9</th>\n",
       "      <td>Alex Abrines</td>\n",
       "      <td>2017</td>\n",
       "      <td>2018</td>\n",
       "      <td>G-F</td>\n",
       "      <td>6-6</td>\n",
       "      <td>190.0</td>\n",
       "      <td>August 1, 1993</td>\n",
       "      <td>NaN</td>\n",
       "      <td>2</td>\n",
       "      <td>1993.0</td>\n",
       "    </tr>\n",
       "    <tr>\n",
       "      <th>10</th>\n",
       "      <td>Alex Acker</td>\n",
       "      <td>2006</td>\n",
       "      <td>2009</td>\n",
       "      <td>G</td>\n",
       "      <td>6-5</td>\n",
       "      <td>185.0</td>\n",
       "      <td>January 21, 1983</td>\n",
       "      <td>Pepperdine University</td>\n",
       "      <td>4</td>\n",
       "      <td>1983.0</td>\n",
       "    </tr>\n",
       "  </tbody>\n",
       "</table>\n",
       "</div>"
      ],
      "text/plain": [
       "                   name  year_start  year_end position height  weight  \\\n",
       "0        Alaa Abdelnaby        1991      1995      F-C   6-10   240.0   \n",
       "1       Zaid Abdul-Aziz        1969      1978      C-F    6-9   235.0   \n",
       "2   Kareem Abdul-Jabbar        1970      1989        C    7-2   225.0   \n",
       "3    Mahmoud Abdul-Rauf        1991      2001        G    6-1   162.0   \n",
       "4     Tariq Abdul-Wahad        1998      2003        F    6-6   223.0   \n",
       "5   Shareef Abdur-Rahim        1997      2008        F    6-9   225.0   \n",
       "6         Tom Abernethy        1977      1981        F    6-7   220.0   \n",
       "7           Forest Able        1957      1957        G    6-3   180.0   \n",
       "8        John Abramovic        1947      1948        F    6-3   195.0   \n",
       "9          Alex Abrines        2017      2018      G-F    6-6   190.0   \n",
       "10           Alex Acker        2006      2009        G    6-5   185.0   \n",
       "\n",
       "           birth_date                                college  Years_Played  \\\n",
       "0       June 24, 1968                        Duke University             5   \n",
       "1       April 7, 1946                  Iowa State University            10   \n",
       "2      April 16, 1947  University of California, Los Angeles            20   \n",
       "3       March 9, 1969             Louisiana State University            11   \n",
       "4    November 3, 1974              San Jose State University             6   \n",
       "5   December 11, 1976               University of California            12   \n",
       "6         May 6, 1954                     Indiana University             5   \n",
       "7       July 27, 1932            Western Kentucky University             1   \n",
       "8    February 9, 1919         Salem International University             2   \n",
       "9      August 1, 1993                                    NaN             2   \n",
       "10   January 21, 1983                  Pepperdine University             4   \n",
       "\n",
       "    birth_year  \n",
       "0       1968.0  \n",
       "1       1946.0  \n",
       "2       1947.0  \n",
       "3       1969.0  \n",
       "4       1974.0  \n",
       "5       1976.0  \n",
       "6       1954.0  \n",
       "7       1932.0  \n",
       "8       1919.0  \n",
       "9       1993.0  \n",
       "10      1983.0  "
      ]
     },
     "execution_count": 6,
     "metadata": {},
     "output_type": "execute_result"
    }
   ],
   "source": [
    "nba['birth_year'] = pd.to_datetime(nba['birth_date']).dt.year\n",
    "nba.head(11)"
   ]
  },
  {
   "cell_type": "code",
   "execution_count": 7,
   "metadata": {},
   "outputs": [],
   "source": [
    "nba['height'] = nba['height'].astype('str')\n",
    "#nba['height'] = pd.to_numeric(nba['height'])"
   ]
  },
  {
   "cell_type": "code",
   "execution_count": 8,
   "metadata": {
    "scrolled": true
   },
   "outputs": [],
   "source": [
    "#list(nba['height'].unique())"
   ]
  },
  {
   "cell_type": "markdown",
   "metadata": {},
   "source": [
    "#### Before I go any further I want to make sure that I don't have any missing values in my dataframe, this way I won't run into any potential problems."
   ]
  },
  {
   "cell_type": "code",
   "execution_count": 9,
   "metadata": {},
   "outputs": [],
   "source": [
    "nba = nba.dropna()"
   ]
  },
  {
   "cell_type": "markdown",
   "metadata": {},
   "source": [
    "#### Getting rid of all this missing values is useful (and necessary) but it wil be at a cost. The cost is that my dataframe will be missing entire rows of potentially useful data. To know how may data points I lost i'll check its shape (_hopefully I don't lose too many_)."
   ]
  },
  {
   "cell_type": "code",
   "execution_count": 10,
   "metadata": {},
   "outputs": [
    {
     "data": {
      "text/plain": [
       "(4213, 10)"
      ]
     },
     "execution_count": 10,
     "metadata": {},
     "output_type": "execute_result"
    }
   ],
   "source": [
    "nba.shape"
   ]
  },
  {
   "cell_type": "markdown",
   "metadata": {},
   "source": [
    "# NOTE: 337 rows removed!!!!"
   ]
  },
  {
   "cell_type": "markdown",
   "metadata": {},
   "source": [
    "#### I can't do anything with the height column as it currently stands because the values are entered as strings. Player height will be much more useful if entered as ints or floats, so i'll write simple function athat will convert feet to inches."
   ]
  },
  {
   "cell_type": "code",
   "execution_count": 11,
   "metadata": {},
   "outputs": [
    {
     "data": {
      "text/plain": [
       "0    82.0\n",
       "1    81.0\n",
       "2    86.0\n",
       "3    73.0\n",
       "4    78.0\n",
       "Name: height, dtype: float64"
      ]
     },
     "execution_count": 11,
     "metadata": {},
     "output_type": "execute_result"
    }
   ],
   "source": [
    "def convert(s):\n",
    "    for i in nba['height']:\n",
    "        return float(int(s[0])*12 + int(s[2:]))\n",
    "    \n",
    "nba['height'].apply(convert).head()"
   ]
  },
  {
   "cell_type": "markdown",
   "metadata": {},
   "source": [
    "#### I can now apply the newly created convert function to the height column."
   ]
  },
  {
   "cell_type": "code",
   "execution_count": 12,
   "metadata": {
    "scrolled": true
   },
   "outputs": [
    {
     "data": {
      "text/html": [
       "<div>\n",
       "<style scoped>\n",
       "    .dataframe tbody tr th:only-of-type {\n",
       "        vertical-align: middle;\n",
       "    }\n",
       "\n",
       "    .dataframe tbody tr th {\n",
       "        vertical-align: top;\n",
       "    }\n",
       "\n",
       "    .dataframe thead th {\n",
       "        text-align: right;\n",
       "    }\n",
       "</style>\n",
       "<table border=\"1\" class=\"dataframe\">\n",
       "  <thead>\n",
       "    <tr style=\"text-align: right;\">\n",
       "      <th></th>\n",
       "      <th>name</th>\n",
       "      <th>year_start</th>\n",
       "      <th>year_end</th>\n",
       "      <th>position</th>\n",
       "      <th>height</th>\n",
       "      <th>weight</th>\n",
       "      <th>birth_date</th>\n",
       "      <th>college</th>\n",
       "      <th>Years_Played</th>\n",
       "      <th>birth_year</th>\n",
       "    </tr>\n",
       "  </thead>\n",
       "  <tbody>\n",
       "    <tr>\n",
       "      <th>0</th>\n",
       "      <td>Alaa Abdelnaby</td>\n",
       "      <td>1991</td>\n",
       "      <td>1995</td>\n",
       "      <td>F-C</td>\n",
       "      <td>82.0</td>\n",
       "      <td>240.0</td>\n",
       "      <td>June 24, 1968</td>\n",
       "      <td>Duke University</td>\n",
       "      <td>5</td>\n",
       "      <td>1968.0</td>\n",
       "    </tr>\n",
       "    <tr>\n",
       "      <th>1</th>\n",
       "      <td>Zaid Abdul-Aziz</td>\n",
       "      <td>1969</td>\n",
       "      <td>1978</td>\n",
       "      <td>C-F</td>\n",
       "      <td>81.0</td>\n",
       "      <td>235.0</td>\n",
       "      <td>April 7, 1946</td>\n",
       "      <td>Iowa State University</td>\n",
       "      <td>10</td>\n",
       "      <td>1946.0</td>\n",
       "    </tr>\n",
       "    <tr>\n",
       "      <th>2</th>\n",
       "      <td>Kareem Abdul-Jabbar</td>\n",
       "      <td>1970</td>\n",
       "      <td>1989</td>\n",
       "      <td>C</td>\n",
       "      <td>86.0</td>\n",
       "      <td>225.0</td>\n",
       "      <td>April 16, 1947</td>\n",
       "      <td>University of California, Los Angeles</td>\n",
       "      <td>20</td>\n",
       "      <td>1947.0</td>\n",
       "    </tr>\n",
       "    <tr>\n",
       "      <th>3</th>\n",
       "      <td>Mahmoud Abdul-Rauf</td>\n",
       "      <td>1991</td>\n",
       "      <td>2001</td>\n",
       "      <td>G</td>\n",
       "      <td>73.0</td>\n",
       "      <td>162.0</td>\n",
       "      <td>March 9, 1969</td>\n",
       "      <td>Louisiana State University</td>\n",
       "      <td>11</td>\n",
       "      <td>1969.0</td>\n",
       "    </tr>\n",
       "    <tr>\n",
       "      <th>4</th>\n",
       "      <td>Tariq Abdul-Wahad</td>\n",
       "      <td>1998</td>\n",
       "      <td>2003</td>\n",
       "      <td>F</td>\n",
       "      <td>78.0</td>\n",
       "      <td>223.0</td>\n",
       "      <td>November 3, 1974</td>\n",
       "      <td>San Jose State University</td>\n",
       "      <td>6</td>\n",
       "      <td>1974.0</td>\n",
       "    </tr>\n",
       "    <tr>\n",
       "      <th>5</th>\n",
       "      <td>Shareef Abdur-Rahim</td>\n",
       "      <td>1997</td>\n",
       "      <td>2008</td>\n",
       "      <td>F</td>\n",
       "      <td>81.0</td>\n",
       "      <td>225.0</td>\n",
       "      <td>December 11, 1976</td>\n",
       "      <td>University of California</td>\n",
       "      <td>12</td>\n",
       "      <td>1976.0</td>\n",
       "    </tr>\n",
       "    <tr>\n",
       "      <th>6</th>\n",
       "      <td>Tom Abernethy</td>\n",
       "      <td>1977</td>\n",
       "      <td>1981</td>\n",
       "      <td>F</td>\n",
       "      <td>79.0</td>\n",
       "      <td>220.0</td>\n",
       "      <td>May 6, 1954</td>\n",
       "      <td>Indiana University</td>\n",
       "      <td>5</td>\n",
       "      <td>1954.0</td>\n",
       "    </tr>\n",
       "    <tr>\n",
       "      <th>7</th>\n",
       "      <td>Forest Able</td>\n",
       "      <td>1957</td>\n",
       "      <td>1957</td>\n",
       "      <td>G</td>\n",
       "      <td>75.0</td>\n",
       "      <td>180.0</td>\n",
       "      <td>July 27, 1932</td>\n",
       "      <td>Western Kentucky University</td>\n",
       "      <td>1</td>\n",
       "      <td>1932.0</td>\n",
       "    </tr>\n",
       "    <tr>\n",
       "      <th>8</th>\n",
       "      <td>John Abramovic</td>\n",
       "      <td>1947</td>\n",
       "      <td>1948</td>\n",
       "      <td>F</td>\n",
       "      <td>75.0</td>\n",
       "      <td>195.0</td>\n",
       "      <td>February 9, 1919</td>\n",
       "      <td>Salem International University</td>\n",
       "      <td>2</td>\n",
       "      <td>1919.0</td>\n",
       "    </tr>\n",
       "    <tr>\n",
       "      <th>10</th>\n",
       "      <td>Alex Acker</td>\n",
       "      <td>2006</td>\n",
       "      <td>2009</td>\n",
       "      <td>G</td>\n",
       "      <td>77.0</td>\n",
       "      <td>185.0</td>\n",
       "      <td>January 21, 1983</td>\n",
       "      <td>Pepperdine University</td>\n",
       "      <td>4</td>\n",
       "      <td>1983.0</td>\n",
       "    </tr>\n",
       "    <tr>\n",
       "      <th>11</th>\n",
       "      <td>Don Ackerman</td>\n",
       "      <td>1954</td>\n",
       "      <td>1954</td>\n",
       "      <td>G</td>\n",
       "      <td>72.0</td>\n",
       "      <td>183.0</td>\n",
       "      <td>September 4, 1930</td>\n",
       "      <td>Long Island University</td>\n",
       "      <td>1</td>\n",
       "      <td>1930.0</td>\n",
       "    </tr>\n",
       "  </tbody>\n",
       "</table>\n",
       "</div>"
      ],
      "text/plain": [
       "                   name  year_start  year_end position  height  weight  \\\n",
       "0        Alaa Abdelnaby        1991      1995      F-C    82.0   240.0   \n",
       "1       Zaid Abdul-Aziz        1969      1978      C-F    81.0   235.0   \n",
       "2   Kareem Abdul-Jabbar        1970      1989        C    86.0   225.0   \n",
       "3    Mahmoud Abdul-Rauf        1991      2001        G    73.0   162.0   \n",
       "4     Tariq Abdul-Wahad        1998      2003        F    78.0   223.0   \n",
       "5   Shareef Abdur-Rahim        1997      2008        F    81.0   225.0   \n",
       "6         Tom Abernethy        1977      1981        F    79.0   220.0   \n",
       "7           Forest Able        1957      1957        G    75.0   180.0   \n",
       "8        John Abramovic        1947      1948        F    75.0   195.0   \n",
       "10           Alex Acker        2006      2009        G    77.0   185.0   \n",
       "11         Don Ackerman        1954      1954        G    72.0   183.0   \n",
       "\n",
       "           birth_date                                college  Years_Played  \\\n",
       "0       June 24, 1968                        Duke University             5   \n",
       "1       April 7, 1946                  Iowa State University            10   \n",
       "2      April 16, 1947  University of California, Los Angeles            20   \n",
       "3       March 9, 1969             Louisiana State University            11   \n",
       "4    November 3, 1974              San Jose State University             6   \n",
       "5   December 11, 1976               University of California            12   \n",
       "6         May 6, 1954                     Indiana University             5   \n",
       "7       July 27, 1932            Western Kentucky University             1   \n",
       "8    February 9, 1919         Salem International University             2   \n",
       "10   January 21, 1983                  Pepperdine University             4   \n",
       "11  September 4, 1930                 Long Island University             1   \n",
       "\n",
       "    birth_year  \n",
       "0       1968.0  \n",
       "1       1946.0  \n",
       "2       1947.0  \n",
       "3       1969.0  \n",
       "4       1974.0  \n",
       "5       1976.0  \n",
       "6       1954.0  \n",
       "7       1932.0  \n",
       "8       1919.0  \n",
       "10      1983.0  \n",
       "11      1930.0  "
      ]
     },
     "execution_count": 12,
     "metadata": {},
     "output_type": "execute_result"
    }
   ],
   "source": [
    "new_height = nba['height'].apply(convert)\n",
    "nba['height'] = new_height\n",
    "nba.head(11)"
   ]
  },
  {
   "cell_type": "markdown",
   "metadata": {},
   "source": [
    "#### I'm interested in how old each player was when they started playing in the NBA. To get their age i'll subtract their starting year from their birth year and make a new column that shows this difference."
   ]
  },
  {
   "cell_type": "code",
   "execution_count": 13,
   "metadata": {},
   "outputs": [
    {
     "data": {
      "text/html": [
       "<div>\n",
       "<style scoped>\n",
       "    .dataframe tbody tr th:only-of-type {\n",
       "        vertical-align: middle;\n",
       "    }\n",
       "\n",
       "    .dataframe tbody tr th {\n",
       "        vertical-align: top;\n",
       "    }\n",
       "\n",
       "    .dataframe thead th {\n",
       "        text-align: right;\n",
       "    }\n",
       "</style>\n",
       "<table border=\"1\" class=\"dataframe\">\n",
       "  <thead>\n",
       "    <tr style=\"text-align: right;\">\n",
       "      <th></th>\n",
       "      <th>name</th>\n",
       "      <th>year_start</th>\n",
       "      <th>year_end</th>\n",
       "      <th>position</th>\n",
       "      <th>height</th>\n",
       "      <th>weight</th>\n",
       "      <th>birth_date</th>\n",
       "      <th>college</th>\n",
       "      <th>Years_Played</th>\n",
       "      <th>birth_year</th>\n",
       "      <th>starting_age</th>\n",
       "    </tr>\n",
       "  </thead>\n",
       "  <tbody>\n",
       "    <tr>\n",
       "      <th>0</th>\n",
       "      <td>Alaa Abdelnaby</td>\n",
       "      <td>1991</td>\n",
       "      <td>1995</td>\n",
       "      <td>F-C</td>\n",
       "      <td>82.0</td>\n",
       "      <td>240.0</td>\n",
       "      <td>June 24, 1968</td>\n",
       "      <td>Duke University</td>\n",
       "      <td>5</td>\n",
       "      <td>1968.0</td>\n",
       "      <td>23.0</td>\n",
       "    </tr>\n",
       "    <tr>\n",
       "      <th>1</th>\n",
       "      <td>Zaid Abdul-Aziz</td>\n",
       "      <td>1969</td>\n",
       "      <td>1978</td>\n",
       "      <td>C-F</td>\n",
       "      <td>81.0</td>\n",
       "      <td>235.0</td>\n",
       "      <td>April 7, 1946</td>\n",
       "      <td>Iowa State University</td>\n",
       "      <td>10</td>\n",
       "      <td>1946.0</td>\n",
       "      <td>23.0</td>\n",
       "    </tr>\n",
       "    <tr>\n",
       "      <th>2</th>\n",
       "      <td>Kareem Abdul-Jabbar</td>\n",
       "      <td>1970</td>\n",
       "      <td>1989</td>\n",
       "      <td>C</td>\n",
       "      <td>86.0</td>\n",
       "      <td>225.0</td>\n",
       "      <td>April 16, 1947</td>\n",
       "      <td>University of California, Los Angeles</td>\n",
       "      <td>20</td>\n",
       "      <td>1947.0</td>\n",
       "      <td>23.0</td>\n",
       "    </tr>\n",
       "    <tr>\n",
       "      <th>3</th>\n",
       "      <td>Mahmoud Abdul-Rauf</td>\n",
       "      <td>1991</td>\n",
       "      <td>2001</td>\n",
       "      <td>G</td>\n",
       "      <td>73.0</td>\n",
       "      <td>162.0</td>\n",
       "      <td>March 9, 1969</td>\n",
       "      <td>Louisiana State University</td>\n",
       "      <td>11</td>\n",
       "      <td>1969.0</td>\n",
       "      <td>22.0</td>\n",
       "    </tr>\n",
       "    <tr>\n",
       "      <th>4</th>\n",
       "      <td>Tariq Abdul-Wahad</td>\n",
       "      <td>1998</td>\n",
       "      <td>2003</td>\n",
       "      <td>F</td>\n",
       "      <td>78.0</td>\n",
       "      <td>223.0</td>\n",
       "      <td>November 3, 1974</td>\n",
       "      <td>San Jose State University</td>\n",
       "      <td>6</td>\n",
       "      <td>1974.0</td>\n",
       "      <td>24.0</td>\n",
       "    </tr>\n",
       "    <tr>\n",
       "      <th>5</th>\n",
       "      <td>Shareef Abdur-Rahim</td>\n",
       "      <td>1997</td>\n",
       "      <td>2008</td>\n",
       "      <td>F</td>\n",
       "      <td>81.0</td>\n",
       "      <td>225.0</td>\n",
       "      <td>December 11, 1976</td>\n",
       "      <td>University of California</td>\n",
       "      <td>12</td>\n",
       "      <td>1976.0</td>\n",
       "      <td>21.0</td>\n",
       "    </tr>\n",
       "    <tr>\n",
       "      <th>6</th>\n",
       "      <td>Tom Abernethy</td>\n",
       "      <td>1977</td>\n",
       "      <td>1981</td>\n",
       "      <td>F</td>\n",
       "      <td>79.0</td>\n",
       "      <td>220.0</td>\n",
       "      <td>May 6, 1954</td>\n",
       "      <td>Indiana University</td>\n",
       "      <td>5</td>\n",
       "      <td>1954.0</td>\n",
       "      <td>23.0</td>\n",
       "    </tr>\n",
       "    <tr>\n",
       "      <th>7</th>\n",
       "      <td>Forest Able</td>\n",
       "      <td>1957</td>\n",
       "      <td>1957</td>\n",
       "      <td>G</td>\n",
       "      <td>75.0</td>\n",
       "      <td>180.0</td>\n",
       "      <td>July 27, 1932</td>\n",
       "      <td>Western Kentucky University</td>\n",
       "      <td>1</td>\n",
       "      <td>1932.0</td>\n",
       "      <td>25.0</td>\n",
       "    </tr>\n",
       "    <tr>\n",
       "      <th>8</th>\n",
       "      <td>John Abramovic</td>\n",
       "      <td>1947</td>\n",
       "      <td>1948</td>\n",
       "      <td>F</td>\n",
       "      <td>75.0</td>\n",
       "      <td>195.0</td>\n",
       "      <td>February 9, 1919</td>\n",
       "      <td>Salem International University</td>\n",
       "      <td>2</td>\n",
       "      <td>1919.0</td>\n",
       "      <td>28.0</td>\n",
       "    </tr>\n",
       "    <tr>\n",
       "      <th>10</th>\n",
       "      <td>Alex Acker</td>\n",
       "      <td>2006</td>\n",
       "      <td>2009</td>\n",
       "      <td>G</td>\n",
       "      <td>77.0</td>\n",
       "      <td>185.0</td>\n",
       "      <td>January 21, 1983</td>\n",
       "      <td>Pepperdine University</td>\n",
       "      <td>4</td>\n",
       "      <td>1983.0</td>\n",
       "      <td>23.0</td>\n",
       "    </tr>\n",
       "    <tr>\n",
       "      <th>11</th>\n",
       "      <td>Don Ackerman</td>\n",
       "      <td>1954</td>\n",
       "      <td>1954</td>\n",
       "      <td>G</td>\n",
       "      <td>72.0</td>\n",
       "      <td>183.0</td>\n",
       "      <td>September 4, 1930</td>\n",
       "      <td>Long Island University</td>\n",
       "      <td>1</td>\n",
       "      <td>1930.0</td>\n",
       "      <td>24.0</td>\n",
       "    </tr>\n",
       "  </tbody>\n",
       "</table>\n",
       "</div>"
      ],
      "text/plain": [
       "                   name  year_start  year_end position  height  weight  \\\n",
       "0        Alaa Abdelnaby        1991      1995      F-C    82.0   240.0   \n",
       "1       Zaid Abdul-Aziz        1969      1978      C-F    81.0   235.0   \n",
       "2   Kareem Abdul-Jabbar        1970      1989        C    86.0   225.0   \n",
       "3    Mahmoud Abdul-Rauf        1991      2001        G    73.0   162.0   \n",
       "4     Tariq Abdul-Wahad        1998      2003        F    78.0   223.0   \n",
       "5   Shareef Abdur-Rahim        1997      2008        F    81.0   225.0   \n",
       "6         Tom Abernethy        1977      1981        F    79.0   220.0   \n",
       "7           Forest Able        1957      1957        G    75.0   180.0   \n",
       "8        John Abramovic        1947      1948        F    75.0   195.0   \n",
       "10           Alex Acker        2006      2009        G    77.0   185.0   \n",
       "11         Don Ackerman        1954      1954        G    72.0   183.0   \n",
       "\n",
       "           birth_date                                college  Years_Played  \\\n",
       "0       June 24, 1968                        Duke University             5   \n",
       "1       April 7, 1946                  Iowa State University            10   \n",
       "2      April 16, 1947  University of California, Los Angeles            20   \n",
       "3       March 9, 1969             Louisiana State University            11   \n",
       "4    November 3, 1974              San Jose State University             6   \n",
       "5   December 11, 1976               University of California            12   \n",
       "6         May 6, 1954                     Indiana University             5   \n",
       "7       July 27, 1932            Western Kentucky University             1   \n",
       "8    February 9, 1919         Salem International University             2   \n",
       "10   January 21, 1983                  Pepperdine University             4   \n",
       "11  September 4, 1930                 Long Island University             1   \n",
       "\n",
       "    birth_year  starting_age  \n",
       "0       1968.0          23.0  \n",
       "1       1946.0          23.0  \n",
       "2       1947.0          23.0  \n",
       "3       1969.0          22.0  \n",
       "4       1974.0          24.0  \n",
       "5       1976.0          21.0  \n",
       "6       1954.0          23.0  \n",
       "7       1932.0          25.0  \n",
       "8       1919.0          28.0  \n",
       "10      1983.0          23.0  \n",
       "11      1930.0          24.0  "
      ]
     },
     "execution_count": 13,
     "metadata": {},
     "output_type": "execute_result"
    }
   ],
   "source": [
    "Totag = (nba['year_start'] - nba['birth_year'])\n",
    "nba['starting_age'] = Totag\n",
    "nba.head(11)"
   ]
  },
  {
   "cell_type": "markdown",
   "metadata": {},
   "source": [
    "#### I want to look at the averages of the weight, height, years_played, and starting_age columns, but i'd also like to have the player position as the index. Now seems like a good time to do a groupby. "
   ]
  },
  {
   "cell_type": "code",
   "execution_count": 14,
   "metadata": {},
   "outputs": [
    {
     "data": {
      "text/html": [
       "<div>\n",
       "<style scoped>\n",
       "    .dataframe tbody tr th:only-of-type {\n",
       "        vertical-align: middle;\n",
       "    }\n",
       "\n",
       "    .dataframe tbody tr th {\n",
       "        vertical-align: top;\n",
       "    }\n",
       "\n",
       "    .dataframe thead th {\n",
       "        text-align: right;\n",
       "    }\n",
       "</style>\n",
       "<table border=\"1\" class=\"dataframe\">\n",
       "  <thead>\n",
       "    <tr style=\"text-align: right;\">\n",
       "      <th></th>\n",
       "      <th>weight</th>\n",
       "      <th>Years_Played</th>\n",
       "      <th>height</th>\n",
       "      <th>starting_age</th>\n",
       "    </tr>\n",
       "    <tr>\n",
       "      <th>position</th>\n",
       "      <th></th>\n",
       "      <th></th>\n",
       "      <th></th>\n",
       "      <th></th>\n",
       "    </tr>\n",
       "  </thead>\n",
       "  <tbody>\n",
       "    <tr>\n",
       "      <th>C</th>\n",
       "      <td>242.219212</td>\n",
       "      <td>5.206897</td>\n",
       "      <td>82.995074</td>\n",
       "      <td>24.224138</td>\n",
       "    </tr>\n",
       "    <tr>\n",
       "      <th>C-F</th>\n",
       "      <td>228.256158</td>\n",
       "      <td>7.152709</td>\n",
       "      <td>81.487685</td>\n",
       "      <td>24.004926</td>\n",
       "    </tr>\n",
       "    <tr>\n",
       "      <th>F</th>\n",
       "      <td>217.985857</td>\n",
       "      <td>4.181364</td>\n",
       "      <td>79.282030</td>\n",
       "      <td>23.861897</td>\n",
       "    </tr>\n",
       "    <tr>\n",
       "      <th>F-C</th>\n",
       "      <td>222.919444</td>\n",
       "      <td>7.258333</td>\n",
       "      <td>80.405556</td>\n",
       "      <td>23.880556</td>\n",
       "    </tr>\n",
       "    <tr>\n",
       "      <th>F-G</th>\n",
       "      <td>202.604878</td>\n",
       "      <td>7.043902</td>\n",
       "      <td>77.448780</td>\n",
       "      <td>24.068293</td>\n",
       "    </tr>\n",
       "    <tr>\n",
       "      <th>G</th>\n",
       "      <td>186.828115</td>\n",
       "      <td>4.795470</td>\n",
       "      <td>74.524983</td>\n",
       "      <td>23.890073</td>\n",
       "    </tr>\n",
       "    <tr>\n",
       "      <th>G-F</th>\n",
       "      <td>197.017857</td>\n",
       "      <td>6.193452</td>\n",
       "      <td>76.601190</td>\n",
       "      <td>24.232143</td>\n",
       "    </tr>\n",
       "  </tbody>\n",
       "</table>\n",
       "</div>"
      ],
      "text/plain": [
       "              weight  Years_Played     height  starting_age\n",
       "position                                                   \n",
       "C         242.219212      5.206897  82.995074     24.224138\n",
       "C-F       228.256158      7.152709  81.487685     24.004926\n",
       "F         217.985857      4.181364  79.282030     23.861897\n",
       "F-C       222.919444      7.258333  80.405556     23.880556\n",
       "F-G       202.604878      7.043902  77.448780     24.068293\n",
       "G         186.828115      4.795470  74.524983     23.890073\n",
       "G-F       197.017857      6.193452  76.601190     24.232143"
      ]
     },
     "execution_count": 14,
     "metadata": {},
     "output_type": "execute_result"
    }
   ],
   "source": [
    "nba_group = nba.groupby(['position'], as_index=True).agg({'weight': 'mean', 'Years_Played': 'mean', \n",
    "                                                           'height': 'mean', 'starting_age': 'mean'})\n",
    "nba_group"
   ]
  },
  {
   "cell_type": "markdown",
   "metadata": {},
   "source": [
    "#### As it stands, the position column isn't really doing anything so let's fix this. There are seven different positions in this dataframe, so I will assign a numeric value for each position ranging from 1-7."
   ]
  },
  {
   "cell_type": "code",
   "execution_count": 15,
   "metadata": {},
   "outputs": [
    {
     "data": {
      "text/html": [
       "<div>\n",
       "<style scoped>\n",
       "    .dataframe tbody tr th:only-of-type {\n",
       "        vertical-align: middle;\n",
       "    }\n",
       "\n",
       "    .dataframe tbody tr th {\n",
       "        vertical-align: top;\n",
       "    }\n",
       "\n",
       "    .dataframe thead th {\n",
       "        text-align: right;\n",
       "    }\n",
       "</style>\n",
       "<table border=\"1\" class=\"dataframe\">\n",
       "  <thead>\n",
       "    <tr style=\"text-align: right;\">\n",
       "      <th></th>\n",
       "      <th>name</th>\n",
       "      <th>year_start</th>\n",
       "      <th>year_end</th>\n",
       "      <th>position</th>\n",
       "      <th>height</th>\n",
       "      <th>weight</th>\n",
       "      <th>birth_date</th>\n",
       "      <th>college</th>\n",
       "      <th>Years_Played</th>\n",
       "      <th>birth_year</th>\n",
       "      <th>starting_age</th>\n",
       "    </tr>\n",
       "  </thead>\n",
       "  <tbody>\n",
       "    <tr>\n",
       "      <th>0</th>\n",
       "      <td>Alaa Abdelnaby</td>\n",
       "      <td>1991</td>\n",
       "      <td>1995</td>\n",
       "      <td>4</td>\n",
       "      <td>82.0</td>\n",
       "      <td>240.0</td>\n",
       "      <td>June 24, 1968</td>\n",
       "      <td>Duke University</td>\n",
       "      <td>5</td>\n",
       "      <td>1968.0</td>\n",
       "      <td>23.0</td>\n",
       "    </tr>\n",
       "    <tr>\n",
       "      <th>1</th>\n",
       "      <td>Zaid Abdul-Aziz</td>\n",
       "      <td>1969</td>\n",
       "      <td>1978</td>\n",
       "      <td>7</td>\n",
       "      <td>81.0</td>\n",
       "      <td>235.0</td>\n",
       "      <td>April 7, 1946</td>\n",
       "      <td>Iowa State University</td>\n",
       "      <td>10</td>\n",
       "      <td>1946.0</td>\n",
       "      <td>23.0</td>\n",
       "    </tr>\n",
       "    <tr>\n",
       "      <th>2</th>\n",
       "      <td>Kareem Abdul-Jabbar</td>\n",
       "      <td>1970</td>\n",
       "      <td>1989</td>\n",
       "      <td>3</td>\n",
       "      <td>86.0</td>\n",
       "      <td>225.0</td>\n",
       "      <td>April 16, 1947</td>\n",
       "      <td>University of California, Los Angeles</td>\n",
       "      <td>20</td>\n",
       "      <td>1947.0</td>\n",
       "      <td>23.0</td>\n",
       "    </tr>\n",
       "    <tr>\n",
       "      <th>3</th>\n",
       "      <td>Mahmoud Abdul-Rauf</td>\n",
       "      <td>1991</td>\n",
       "      <td>2001</td>\n",
       "      <td>1</td>\n",
       "      <td>73.0</td>\n",
       "      <td>162.0</td>\n",
       "      <td>March 9, 1969</td>\n",
       "      <td>Louisiana State University</td>\n",
       "      <td>11</td>\n",
       "      <td>1969.0</td>\n",
       "      <td>22.0</td>\n",
       "    </tr>\n",
       "    <tr>\n",
       "      <th>4</th>\n",
       "      <td>Tariq Abdul-Wahad</td>\n",
       "      <td>1998</td>\n",
       "      <td>2003</td>\n",
       "      <td>2</td>\n",
       "      <td>78.0</td>\n",
       "      <td>223.0</td>\n",
       "      <td>November 3, 1974</td>\n",
       "      <td>San Jose State University</td>\n",
       "      <td>6</td>\n",
       "      <td>1974.0</td>\n",
       "      <td>24.0</td>\n",
       "    </tr>\n",
       "    <tr>\n",
       "      <th>5</th>\n",
       "      <td>Shareef Abdur-Rahim</td>\n",
       "      <td>1997</td>\n",
       "      <td>2008</td>\n",
       "      <td>2</td>\n",
       "      <td>81.0</td>\n",
       "      <td>225.0</td>\n",
       "      <td>December 11, 1976</td>\n",
       "      <td>University of California</td>\n",
       "      <td>12</td>\n",
       "      <td>1976.0</td>\n",
       "      <td>21.0</td>\n",
       "    </tr>\n",
       "    <tr>\n",
       "      <th>6</th>\n",
       "      <td>Tom Abernethy</td>\n",
       "      <td>1977</td>\n",
       "      <td>1981</td>\n",
       "      <td>2</td>\n",
       "      <td>79.0</td>\n",
       "      <td>220.0</td>\n",
       "      <td>May 6, 1954</td>\n",
       "      <td>Indiana University</td>\n",
       "      <td>5</td>\n",
       "      <td>1954.0</td>\n",
       "      <td>23.0</td>\n",
       "    </tr>\n",
       "    <tr>\n",
       "      <th>7</th>\n",
       "      <td>Forest Able</td>\n",
       "      <td>1957</td>\n",
       "      <td>1957</td>\n",
       "      <td>1</td>\n",
       "      <td>75.0</td>\n",
       "      <td>180.0</td>\n",
       "      <td>July 27, 1932</td>\n",
       "      <td>Western Kentucky University</td>\n",
       "      <td>1</td>\n",
       "      <td>1932.0</td>\n",
       "      <td>25.0</td>\n",
       "    </tr>\n",
       "    <tr>\n",
       "      <th>8</th>\n",
       "      <td>John Abramovic</td>\n",
       "      <td>1947</td>\n",
       "      <td>1948</td>\n",
       "      <td>2</td>\n",
       "      <td>75.0</td>\n",
       "      <td>195.0</td>\n",
       "      <td>February 9, 1919</td>\n",
       "      <td>Salem International University</td>\n",
       "      <td>2</td>\n",
       "      <td>1919.0</td>\n",
       "      <td>28.0</td>\n",
       "    </tr>\n",
       "    <tr>\n",
       "      <th>10</th>\n",
       "      <td>Alex Acker</td>\n",
       "      <td>2006</td>\n",
       "      <td>2009</td>\n",
       "      <td>1</td>\n",
       "      <td>77.0</td>\n",
       "      <td>185.0</td>\n",
       "      <td>January 21, 1983</td>\n",
       "      <td>Pepperdine University</td>\n",
       "      <td>4</td>\n",
       "      <td>1983.0</td>\n",
       "      <td>23.0</td>\n",
       "    </tr>\n",
       "  </tbody>\n",
       "</table>\n",
       "</div>"
      ],
      "text/plain": [
       "                   name  year_start  year_end  position  height  weight  \\\n",
       "0        Alaa Abdelnaby        1991      1995         4    82.0   240.0   \n",
       "1       Zaid Abdul-Aziz        1969      1978         7    81.0   235.0   \n",
       "2   Kareem Abdul-Jabbar        1970      1989         3    86.0   225.0   \n",
       "3    Mahmoud Abdul-Rauf        1991      2001         1    73.0   162.0   \n",
       "4     Tariq Abdul-Wahad        1998      2003         2    78.0   223.0   \n",
       "5   Shareef Abdur-Rahim        1997      2008         2    81.0   225.0   \n",
       "6         Tom Abernethy        1977      1981         2    79.0   220.0   \n",
       "7           Forest Able        1957      1957         1    75.0   180.0   \n",
       "8        John Abramovic        1947      1948         2    75.0   195.0   \n",
       "10           Alex Acker        2006      2009         1    77.0   185.0   \n",
       "\n",
       "           birth_date                                college  Years_Played  \\\n",
       "0       June 24, 1968                        Duke University             5   \n",
       "1       April 7, 1946                  Iowa State University            10   \n",
       "2      April 16, 1947  University of California, Los Angeles            20   \n",
       "3       March 9, 1969             Louisiana State University            11   \n",
       "4    November 3, 1974              San Jose State University             6   \n",
       "5   December 11, 1976               University of California            12   \n",
       "6         May 6, 1954                     Indiana University             5   \n",
       "7       July 27, 1932            Western Kentucky University             1   \n",
       "8    February 9, 1919         Salem International University             2   \n",
       "10   January 21, 1983                  Pepperdine University             4   \n",
       "\n",
       "    birth_year  starting_age  \n",
       "0       1968.0          23.0  \n",
       "1       1946.0          23.0  \n",
       "2       1947.0          23.0  \n",
       "3       1969.0          22.0  \n",
       "4       1974.0          24.0  \n",
       "5       1976.0          21.0  \n",
       "6       1954.0          23.0  \n",
       "7       1932.0          25.0  \n",
       "8       1919.0          28.0  \n",
       "10      1983.0          23.0  "
      ]
     },
     "execution_count": 15,
     "metadata": {},
     "output_type": "execute_result"
    }
   ],
   "source": [
    "nba_new = nba.replace(['G','F','C','F-C','G-F','F-G','C-F'],[1,2,3,4,5,6,7],inplace = False)\n",
    "nba_new.head(10)"
   ]
  },
  {
   "cell_type": "markdown",
   "metadata": {},
   "source": [
    "#### I think it's about time I throw in a graph. Let's look at the most frequent player heights."
   ]
  },
  {
   "cell_type": "code",
   "execution_count": 16,
   "metadata": {},
   "outputs": [
    {
     "data": {
      "image/png": "[encoded data removed]",
      "text/plain": [
       "<Figure size 864x432 with 1 Axes>"
      ]
     },
     "metadata": {
      "needs_background": "light"
     },
     "output_type": "display_data"
    }
   ],
   "source": [
    "fig, ax = plt.subplots(figsize=(12, 6))\n",
    "x = nba.height\n",
    "height_count = Counter(x)\n",
    "\n",
    "# convert the dictionary to a DataFrame\n",
    "df = pd.DataFrame.from_dict(height_count, orient='index')\n",
    "\n",
    "# sort the values from the top to the least value \n",
    "df = df[0].sort_values(ascending = True)\n",
    "df.plot(kind='bar')\n",
    "\n",
    "# Set the title and labels\n",
    "plt.xlabel('Height')\n",
    "plt.ylabel('Number of players')\n",
    "plt.title('Most frequent heights')\n",
    "\n",
    "# show the plot\n",
    "plt.show()"
   ]
  },
  {
   "cell_type": "markdown",
   "metadata": {},
   "source": [
    "Just to have an idea of the distribution of player position."
   ]
  },
  {
   "cell_type": "code",
   "execution_count": 17,
   "metadata": {},
   "outputs": [
    {
     "data": {
      "text/plain": [
       "G      0.356278\n",
       "F      0.285307\n",
       "C      0.096368\n",
       "F-C    0.085450\n",
       "G-F    0.079753\n",
       "F-G    0.048659\n",
       "C-F    0.048184\n",
       "Name: position, dtype: float64"
      ]
     },
     "execution_count": 17,
     "metadata": {},
     "output_type": "execute_result"
    }
   ],
   "source": [
    "nba['position'].value_counts(normalize=True)"
   ]
  },
  {
   "cell_type": "markdown",
   "metadata": {},
   "source": [
    "#### Now is part where I get into some regression analysis. In order for me to do any type of analysis i'll need to make sure that there are no missing entries in my dataframe (already taken care of), and that all entries are numeric (i.e. int or float). So I will only be looking at columns with only numeric entries."
   ]
  },
  {
   "cell_type": "code",
   "execution_count": 18,
   "metadata": {
    "scrolled": true
   },
   "outputs": [
    {
     "data": {
      "text/html": [
       "<div>\n",
       "<style scoped>\n",
       "    .dataframe tbody tr th:only-of-type {\n",
       "        vertical-align: middle;\n",
       "    }\n",
       "\n",
       "    .dataframe tbody tr th {\n",
       "        vertical-align: top;\n",
       "    }\n",
       "\n",
       "    .dataframe thead th {\n",
       "        text-align: right;\n",
       "    }\n",
       "</style>\n",
       "<table border=\"1\" class=\"dataframe\">\n",
       "  <thead>\n",
       "    <tr style=\"text-align: right;\">\n",
       "      <th></th>\n",
       "      <th>position</th>\n",
       "      <th>height</th>\n",
       "      <th>weight</th>\n",
       "      <th>Years_Played</th>\n",
       "      <th>starting_age</th>\n",
       "    </tr>\n",
       "  </thead>\n",
       "  <tbody>\n",
       "    <tr>\n",
       "      <th>0</th>\n",
       "      <td>4</td>\n",
       "      <td>82.0</td>\n",
       "      <td>240.0</td>\n",
       "      <td>5</td>\n",
       "      <td>23.0</td>\n",
       "    </tr>\n",
       "    <tr>\n",
       "      <th>1</th>\n",
       "      <td>7</td>\n",
       "      <td>81.0</td>\n",
       "      <td>235.0</td>\n",
       "      <td>10</td>\n",
       "      <td>23.0</td>\n",
       "    </tr>\n",
       "    <tr>\n",
       "      <th>2</th>\n",
       "      <td>3</td>\n",
       "      <td>86.0</td>\n",
       "      <td>225.0</td>\n",
       "      <td>20</td>\n",
       "      <td>23.0</td>\n",
       "    </tr>\n",
       "    <tr>\n",
       "      <th>3</th>\n",
       "      <td>1</td>\n",
       "      <td>73.0</td>\n",
       "      <td>162.0</td>\n",
       "      <td>11</td>\n",
       "      <td>22.0</td>\n",
       "    </tr>\n",
       "    <tr>\n",
       "      <th>4</th>\n",
       "      <td>2</td>\n",
       "      <td>78.0</td>\n",
       "      <td>223.0</td>\n",
       "      <td>6</td>\n",
       "      <td>24.0</td>\n",
       "    </tr>\n",
       "    <tr>\n",
       "      <th>5</th>\n",
       "      <td>2</td>\n",
       "      <td>81.0</td>\n",
       "      <td>225.0</td>\n",
       "      <td>12</td>\n",
       "      <td>21.0</td>\n",
       "    </tr>\n",
       "    <tr>\n",
       "      <th>6</th>\n",
       "      <td>2</td>\n",
       "      <td>79.0</td>\n",
       "      <td>220.0</td>\n",
       "      <td>5</td>\n",
       "      <td>23.0</td>\n",
       "    </tr>\n",
       "  </tbody>\n",
       "</table>\n",
       "</div>"
      ],
      "text/plain": [
       "   position  height  weight  Years_Played  starting_age\n",
       "0         4    82.0   240.0             5          23.0\n",
       "1         7    81.0   235.0            10          23.0\n",
       "2         3    86.0   225.0            20          23.0\n",
       "3         1    73.0   162.0            11          22.0\n",
       "4         2    78.0   223.0             6          24.0\n",
       "5         2    81.0   225.0            12          21.0\n",
       "6         2    79.0   220.0             5          23.0"
      ]
     },
     "execution_count": 18,
     "metadata": {},
     "output_type": "execute_result"
    }
   ],
   "source": [
    "nba_col = nba_new[['position', 'height', 'weight', 'Years_Played' , 'starting_age']]\n",
    "nba_col.head(7)"
   ]
  },
  {
   "cell_type": "markdown",
   "metadata": {},
   "source": [
    "#### Before continuing, I want to ensure that there is a linear relationship between the predictors and the target, so i'l check that out by looking scatter plot metrics."
   ]
  },
  {
   "cell_type": "code",
   "execution_count": 19,
   "metadata": {},
   "outputs": [
    {
     "name": "stderr",
     "output_type": "stream",
     "text": [
      "C:\\Users\\Sammael89\\Anaconda3\\lib\\site-packages\\scipy\\stats\\stats.py:1713: FutureWarning: Using a non-tuple sequence for multidimensional indexing is deprecated; use `arr[tuple(seq)]` instead of `arr[seq]`. In the future this will be interpreted as an array index, `arr[np.array(seq)]`, which will result either in an error or a different result.\n",
      "  return np.add.reduce(sorted[indexer] * weights, axis=axis) / sumval\n",
      "C:\\Users\\Sammael89\\Anaconda3\\lib\\site-packages\\statsmodels\\nonparametric\\kde.py:488: RuntimeWarning: invalid value encountered in true_divide\n",
      "  binned = fast_linbin(X, a, b, gridsize) / (delta * nobs)\n",
      "C:\\Users\\Sammael89\\Anaconda3\\lib\\site-packages\\statsmodels\\nonparametric\\kdetools.py:34: RuntimeWarning: invalid value encountered in double_scalars\n",
      "  FAC1 = 2*(np.pi*bw/RANGE)**2\n",
      "C:\\Users\\Sammael89\\Anaconda3\\lib\\site-packages\\numpy\\core\\fromnumeric.py:83: RuntimeWarning: invalid value encountered in reduce\n",
      "  return ufunc.reduce(obj, axis, dtype, out, **passkwargs)\n"
     ]
    },
    {
     "data": {
      "text/plain": [
       "<seaborn.axisgrid.PairGrid at 0x2b8ab81e8d0>"
      ]
     },
     "execution_count": 19,
     "metadata": {},
     "output_type": "execute_result"
    },
    {
     "data": {
      "image/png": "[encoded data removed]",
      "text/plain": [
       "<Figure size 945.85x900 with 30 Axes>"
      ]
     },
     "metadata": {
      "needs_background": "light"
     },
     "output_type": "display_data"
    }
   ],
   "source": [
    "sb.pairplot(nba_col,hue = 'position')"
   ]
  },
  {
   "cell_type": "markdown",
   "metadata": {},
   "source": [
    "#### Checking the correlation between my predictor variables."
   ]
  },
  {
   "cell_type": "code",
   "execution_count": 20,
   "metadata": {
    "scrolled": true
   },
   "outputs": [
    {
     "name": "stdout",
     "output_type": "stream",
     "text": [
      "              position    height    weight  Years_Played  starting_age\n",
      "position      1.000000  0.415854  0.326706      0.196497      0.040539\n",
      "height        0.415854  1.000000  0.822154      0.141010     -0.160400\n",
      "weight        0.326706  0.822154  1.000000      0.114646     -0.127670\n",
      "Years_Played  0.196497  0.141010  0.114646      1.000000     -0.283691\n",
      "starting_age  0.040539 -0.160400 -0.127670     -0.283691      1.000000\n"
     ]
    }
   ],
   "source": [
    "print(nba_col.corr())"
   ]
  },
  {
   "cell_type": "markdown",
   "metadata": {},
   "source": [
    "## Linear Regression."
   ]
  },
  {
   "cell_type": "code",
   "execution_count": 21,
   "metadata": {},
   "outputs": [
    {
     "name": "stdout",
     "output_type": "stream",
     "text": [
      "0.17364618657301986\n"
     ]
    }
   ],
   "source": [
    "nba_col_data = nba_col.iloc[:,1:3].values\n",
    "X1 = preprocessing.scale(nba_col_data)\n",
    "nba_col_target =  nba_col.iloc[:,0].values\n",
    "X,y = scale(nba_col_data), nba_col_target\n",
    "\n",
    "LinReg = LinearRegression(normalize = True)\n",
    "LinReg.fit(X1,y)\n",
    "print(LinReg.score(X1,y))"
   ]
  },
  {
   "cell_type": "markdown",
   "metadata": {},
   "source": [
    "#### Apparently the linear model was a terrible choice (which is not surprising given that the task is to classify and not do a regression). Let's try a logistic model instead, but before I continue it might be a good idea to check if the target is binary or ordinal."
   ]
  },
  {
   "cell_type": "code",
   "execution_count": 22,
   "metadata": {
    "scrolled": true
   },
   "outputs": [
    {
     "data": {
      "text/plain": [
       "<matplotlib.axes._subplots.AxesSubplot at 0x2b8b4a367f0>"
      ]
     },
     "execution_count": 22,
     "metadata": {},
     "output_type": "execute_result"
    },
    {
     "data": {
      "image/png": "[encoded data removed]",
      "text/plain": [
       "<Figure size 432x288 with 1 Axes>"
      ]
     },
     "metadata": {
      "needs_background": "light"
     },
     "output_type": "display_data"
    }
   ],
   "source": [
    "sb.countplot(x='position', data = nba_col, palette = 'hls')"
   ]
  },
  {
   "cell_type": "markdown",
   "metadata": {},
   "source": [
    "## Logistic Regression."
   ]
  },
  {
   "cell_type": "code",
   "execution_count": 23,
   "metadata": {
    "scrolled": true
   },
   "outputs": [
    {
     "name": "stdout",
     "output_type": "stream",
     "text": [
      "Accuracy: 0.62\n"
     ]
    },
    {
     "name": "stderr",
     "output_type": "stream",
     "text": [
      "C:\\Users\\Sammael89\\Anaconda3\\lib\\site-packages\\sklearn\\linear_model\\logistic.py:433: FutureWarning: Default solver will be changed to 'lbfgs' in 0.22. Specify a solver to silence this warning.\n",
      "  FutureWarning)\n",
      "C:\\Users\\Sammael89\\Anaconda3\\lib\\site-packages\\sklearn\\linear_model\\logistic.py:460: FutureWarning: Default multi_class will be changed to 'auto' in 0.22. Specify the multi_class option to silence this warning.\n",
      "  \"this warning.\", FutureWarning)\n"
     ]
    }
   ],
   "source": [
    "nba_col_data = nba_col.iloc[:,1:3].values\n",
    "X2 = preprocessing.scale(nba_col_data)\n",
    "target = nba_col.iloc[:,0].values\n",
    "LogReg = LogisticRegression()\n",
    "LogReg.fit(X2,target)\n",
    "print('Accuracy: %.2f' % LogReg.score(X2,target))"
   ]
  },
  {
   "cell_type": "markdown",
   "metadata": {},
   "source": [
    "#### This is a much better result, basically you have 62.5% chance of knowing a players position if you know their height and weight. Let's investigate if this can be improved."
   ]
  },
  {
   "cell_type": "code",
   "execution_count": 24,
   "metadata": {
    "scrolled": false
   },
   "outputs": [
    {
     "name": "stdout",
     "output_type": "stream",
     "text": [
      "              precision    recall  f1-score   support\n",
      "\n",
      "           1       0.71      0.93      0.81      1501\n",
      "           2       0.52      0.83      0.64      1202\n",
      "           3       0.74      0.58      0.65       406\n",
      "           4       0.00      0.00      0.00       360\n",
      "           5       0.00      0.00      0.00       336\n",
      "           6       0.00      0.00      0.00       205\n",
      "           7       0.00      0.00      0.00       203\n",
      "\n",
      "   micro avg       0.62      0.62      0.62      4213\n",
      "   macro avg       0.28      0.33      0.30      4213\n",
      "weighted avg       0.47      0.62      0.53      4213\n",
      "\n"
     ]
    },
    {
     "name": "stderr",
     "output_type": "stream",
     "text": [
      "C:\\Users\\Sammael89\\Anaconda3\\lib\\site-packages\\sklearn\\metrics\\classification.py:1143: UndefinedMetricWarning: Precision and F-score are ill-defined and being set to 0.0 in labels with no predicted samples.\n",
      "  'precision', 'predicted', average, warn_for)\n",
      "C:\\Users\\Sammael89\\Anaconda3\\lib\\site-packages\\sklearn\\metrics\\classification.py:1143: UndefinedMetricWarning: Precision and F-score are ill-defined and being set to 0.0 in labels with no predicted samples.\n",
      "  'precision', 'predicted', average, warn_for)\n",
      "C:\\Users\\Sammael89\\Anaconda3\\lib\\site-packages\\sklearn\\metrics\\classification.py:1143: UndefinedMetricWarning: Precision and F-score are ill-defined and being set to 0.0 in labels with no predicted samples.\n",
      "  'precision', 'predicted', average, warn_for)\n"
     ]
    }
   ],
   "source": [
    "y_Pred = LogReg.predict(X2)\n",
    "from sklearn.metrics import classification_report\n",
    "print(classification_report(y,y_Pred))"
   ]
  },
  {
   "cell_type": "markdown",
   "metadata": {},
   "source": [
    "# Exploring the K-NN Model"
   ]
  },
  {
   "cell_type": "markdown",
   "metadata": {},
   "source": [
    "#### The next task is to attemp the K-nearest neighbors algorithm. The reason for this is beacause much like logistic regression, this is algorithm specializes in classification."
   ]
  },
  {
   "cell_type": "code",
   "execution_count": 25,
   "metadata": {},
   "outputs": [],
   "source": [
    "nba_col_data = nba_col.iloc[:,1:3].values\n",
    "X = preprocessing.scale(nba_col_data)\n",
    "y = nba_col.iloc[:,0].values\n",
    "\n",
    "X_train, X_test, y_train, y_test = train_test_split(X, y, test_size = .2, random_state = 10)"
   ]
  },
  {
   "cell_type": "code",
   "execution_count": 38,
   "metadata": {},
   "outputs": [
    {
     "name": "stdout",
     "output_type": "stream",
     "text": [
      "              precision    recall  f1-score   support\n",
      "\n",
      "           1       0.73      0.93      0.81       300\n",
      "           2       0.57      0.76      0.65       255\n",
      "           3       0.53      0.66      0.59        70\n",
      "           4       0.20      0.04      0.07        75\n",
      "           5       0.00      0.00      0.00        66\n",
      "           6       0.43      0.08      0.14        36\n",
      "           7       0.33      0.05      0.09        41\n",
      "\n",
      "   micro avg       0.63      0.63      0.63       843\n",
      "   macro avg       0.40      0.36      0.34       843\n",
      "weighted avg       0.53      0.63      0.55       843\n",
      "\n"
     ]
    }
   ],
   "source": [
    "classifier = KNeighborsClassifier(n_neighbors=11, p=2, metric= 'euclidean')\n",
    "classifier.fit(X_train, y_train)\n",
    "y_expect = y_test\n",
    "y_pred = classifier.predict(X_test)\n",
    "\n",
    "print(metrics.classification_report(y_expect, y_pred))"
   ]
  },
  {
   "cell_type": "code",
   "execution_count": 39,
   "metadata": {},
   "outputs": [
    {
     "name": "stdout",
     "output_type": "stream",
     "text": [
      "Accuracy: 0.63\n"
     ]
    }
   ],
   "source": [
    "print('Accuracy: %.2f' % accuracy_score(y_expect, y_pred))"
   ]
  },
  {
   "cell_type": "code",
   "execution_count": 42,
   "metadata": {},
   "outputs": [
    {
     "name": "stderr",
     "output_type": "stream",
     "text": [
      "C:\\Users\\Sammael89\\Anaconda3\\lib\\site-packages\\sklearn\\linear_model\\stochastic_gradient.py:152: DeprecationWarning: n_iter parameter is deprecated in 0.19 and will be removed in 0.21. Use max_iter and tol instead.\n",
      "  DeprecationWarning)\n"
     ]
    },
    {
     "name": "stdout",
     "output_type": "stream",
     "text": [
      "Misclassified samples: 350\n"
     ]
    }
   ],
   "source": [
    "from sklearn.linear_model import Perceptron\n",
    "from sklearn.preprocessing import StandardScaler\n",
    "\n",
    "sc = StandardScaler()\n",
    "sc.fit(X_train)\n",
    "X_train_std = sc.transform(X_train)\n",
    "X_test_std = sc.transform(X_test)\n",
    "\n",
    "ppn = Perceptron(n_iter=1000, eta0=0.001, random_state=7)\n",
    "ppn.fit(X_train_std, y_train)\n",
    "\n",
    "y_pred = ppn.predict(X_test_std)\n",
    "print('Misclassified samples: %d' % (y_expect != y_pred).sum())"
   ]
  },
  {
   "cell_type": "markdown",
   "metadata": {},
   "source": [
    "#### Again, we basically have a 62.5% chance of knowing a players position if you know their height and weight. Two different classification machine learning algorithms gave essentially the same solution, so we can feel assured that this is the correct solution (with 350 misclassified samples). "
   ]
  },
  {
   "cell_type": "markdown",
   "metadata": {},
   "source": [
    "### Online visualizations of Player stats\n",
    "https://public.tableau.com/profile/warren.wilson#!/vizhome/nba_stats_0/nba_stats?publish=yes"
   ]
  },
  {
   "cell_type": "code",
   "execution_count": 41,
   "metadata": {},
   "outputs": [],
   "source": [
    "#Saving the cleaned dataset as a Excel document\n",
    "writer = pd.ExcelWriter('NBA_Cleaned2.xlsx')\n",
    "nba_new.to_excel(writer,'Sheet1')\n",
    "writer.save()"
   ]
  },
  {
   "cell_type": "code",
   "execution_count": 1,
   "metadata": {},
   "outputs": [
    {
     "name": "stdout",
     "output_type": "stream",
     "text": [
      "2.5\n"
     ]
    }
   ],
   "source": [
    "class MathUtils:\n",
    "\n",
    "    @staticmethod\n",
    "    def average(a, b):\n",
    "        return a + b / 2\n",
    "\n",
    "print(MathUtils.average(2, 1))"
   ]
  },
  {
   "cell_type": "code",
   "execution_count": null,
   "metadata": {},
   "outputs": [],
   "source": [
    "++6++"
   ]
  }
 ],
 "metadata": {
  "kernelspec": {
   "display_name": "Python 3",
   "language": "python",
   "name": "python3"
  },
  "language_info": {
   "codemirror_mode": {
    "name": "ipython",
    "version": 3
   },
   "file_extension": ".py",
   "mimetype": "text/x-python",
   "name": "python",
   "nbconvert_exporter": "python",
   "pygments_lexer": "ipython3",
   "version": "3.6.5"
  }
 },
 "nbformat": 4,
 "nbformat_minor": 2
}
